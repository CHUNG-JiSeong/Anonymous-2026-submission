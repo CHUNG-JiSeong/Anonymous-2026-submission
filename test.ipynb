{
 "cells": [
  {
   "cell_type": "code",
   "execution_count": null,
   "id": "d8ad3417",
   "metadata": {},
   "outputs": [],
   "source": [
    "import os\n",
    "import sys\n",
    "import json, yaml, re\n",
    "from pathlib import Path\n",
    "sys.path.append(os.path.join(os.getcwd(), \"core\"))\n",
    "sys.path.append(os.path.join(os.getcwd(), \"core/Compliance\"))"
   ]
  },
  {
   "cell_type": "code",
   "execution_count": null,
   "id": "54d5b749",
   "metadata": {},
   "outputs": [],
   "source": [
    "from kg_builder import KGbuilder, AccuracyOptions\n",
    "\n",
    "gdpr = json.load(open(\"data/gdpr.json\",\"r\",encoding=\"utf-8\"))\n",
    "acc = AccuracyOptions(\n",
    "    process_all=True,\n",
    "    mask_premise_in_norm=True,\n",
    "    ensemble_premise=3,\n",
    "    ensemble_triple=7,\n",
    "    verify_passes=1,\n",
    "    refs_mode=\"llm\",\n",
    "    build_logic_groups=True,\n",
    "    detect_conflicts=True,\n",
    "    use_embed_consensus=True,\n",
    "    embed_backend=\"openai\",\n",
    "    embed_model=\"text-embedding-3-large\",\n",
    "    local_embed_model=\"sentence-transformers/all-mpnet-base-v2\",\n",
    "    embed_batch_size=64,\n",
    "    sim_th=0.86,\n",
    "    tau=0.6,\n",
    "    link_support_ratio=0.4,\n",
    ")\n",
    "g = KGbuilder(\n",
    "    gdpr,\n",
    "    use_llm=True,\n",
    "    prompt_path=\"configs/prompts.yaml\",\n",
    "    cache_path=\"data/kg_cache.jsonl\",\n",
    "    max_input_tokens=2400,\n",
    "    pack_size=1,\n",
    "    min_chars_for_llm=0,\n",
    "    accuracy=acc\n",
    ")"
   ]
  },
  {
   "cell_type": "code",
   "execution_count": null,
   "id": "e85ebf28",
   "metadata": {},
   "outputs": [],
   "source": [
    "snap = g.export_snapshot(\"data/gdpr_snapshot.json\")"
   ]
  },
  {
   "cell_type": "code",
   "execution_count": null,
   "id": "5937a22f",
   "metadata": {},
   "outputs": [],
   "source": [
    "from run_context_pipeline import ContextToGraph, PipelineConfig, pretty_print_graph, save_graph_json\n",
    "\n",
    "# (2) sample 텍스트\n",
    "sample = \"\"\"\n",
    "I'm the IT operations manager at a private hospital group in Lyon.\n",
    "We plan to export from the EHR a weekly file containing: patient discharge date, ICD-10 diagnosis codes, lab result45 flags (e.g., HbA1c>7),\n",
    "year of birth, sex, and 5-digit postcode, plus a stable hashed patient ID (the salt is stored in our data warehouse so we can reconnect the records).\n",
    "The file will be ingested into our customer data platform to build lookalike audiences and to retarget discharged patients on Facebook/Instagram via server-to-server integrations.\n",
    "Our admission form currently has a single bundled consent ('we may use your data for service improvement and offers');\n",
    "we have not collected explicit, separate consent for using health data for marketing.\n",
    "Marketing proposes to rely on legitimate interests and to continue sending events to US-based ad vendors.\n",
    "We have not completed an updated SCC/TIA package for these transfers.\n",
    "Context details: Acting as a controller. Stated purposes include marketing and retargeting. Data involved includes health-related data, identifiers and contact details; potential special categories: health. Data subjects: patients. Recipients or service providers include advertising vendor and social media platform. Cross-border access/transfer noted: US. Retention period mentioned: 365d. Existing security controls noted: hashing and access controls. Sector context: healthcare. Jurisdiction context: EU, FR.\n",
    "\"\"\".strip()\n",
    "\n",
    "runner = ContextToGraph(PipelineConfig(\n",
    "    policy_graph_path=\"data/gdpr_snapshot.json\",\n",
    "    chat_model=\"gpt-4o\",\n",
    "    embed_model=\"text-embedding-3-small\",\n",
    "    seed=42,\n",
    "    top_k=5,\n",
    "    er_temperature=0.0\n",
    "))\n",
    "\n",
    "amrs, graphs = runner.run(sample)\n",
    "print(f\"[AMR] {len(amrs)}, [Graphs] {len(graphs)}\")\n",
    "\n",
    "for g in graphs:\n",
    "    pretty_print_graph(g, show_relations=True, only_strong=False)\n",
    "    save_graph_json(g, \"data/context_graphs.json\")"
   ]
  },
  {
   "cell_type": "code",
   "execution_count": null,
   "id": "5fc3eb21",
   "metadata": {},
   "outputs": [],
   "source": [
    "from compliance_gate import ComplianceGate, ComplianceMonitor\n",
    "\n",
    "with open(\"data/gdpr_snapshot.json\",\"r\",encoding=\"utf-8\") as f:\n",
    "    policy_graph = json.load(f)\n",
    "with open(\"data/context_graphs2.json\",\"r\",encoding=\"utf-8\") as f:\n",
    "    context_graph = json.load(f)\n",
    "\n",
    "monitor = ComplianceMonitor(path=\"monitor/compliance_monitor_v2.jsonl\", enabled=True, redact=False)\n",
    "\n",
    "gate = ComplianceGate(pred_threshold=0.55, top_k=8, monitor=monitor)\n",
    "decisions = gate(policy_graph, context_graph)\n",
    "\n",
    "violations = [d for d in decisions if d.verdict == \"NON_COMPLIANT\"]\n",
    "for d in violations:\n",
    "    print(d.article, d.why)\n",
    "    for q in d.evidence[:2]:\n",
    "        print(\" -\", q)"
   ]
  }
 ],
 "metadata": {
  "language_info": {
   "name": "python"
  }
 },
 "nbformat": 4,
 "nbformat_minor": 5
}
